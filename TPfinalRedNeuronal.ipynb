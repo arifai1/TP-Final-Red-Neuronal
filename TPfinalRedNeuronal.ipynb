{
  "nbformat": 4,
  "nbformat_minor": 0,
  "metadata": {
    "colab": {
      "provenance": [],
      "collapsed_sections": []
    },
    "kernelspec": {
      "name": "python3",
      "display_name": "Python 3"
    },
    "language_info": {
      "name": "python"
    }
  },
  "cells": [
    {
      "cell_type": "markdown",
      "source": [
        "Trabajo Practico final. Abril Velo Bares, Ari Faiwusiewiez y Valentina Hsu.  (READ ME)\n",
        " "
      ],
      "metadata": {
        "id": "YrvYoe7SV60Y"
      }
    },
    {
      "cell_type": "markdown",
      "source": [
        "En este trabajo, se ve representado una red neuronal que clasifica numeros escritos a mano. Es decir, se muestra una foto del número escrito a mano, y mediante esta red la vamos entrenando para que pueda acertar que número es y que sea correcto."
      ],
      "metadata": {
        "id": "eGhqD98NWU6d"
      }
    },
    {
      "cell_type": "markdown",
      "source": [
        "Importamos todas las librerias e importes que nos van a ayudar para hacer la red neuronal"
      ],
      "metadata": {
        "id": "JUnDLB5WVxRZ"
      }
    },
    {
      "cell_type": "code",
      "execution_count": null,
      "metadata": {
        "id": "OwxVEN6Mi3od",
        "colab": {
          "base_uri": "https://localhost:8080/"
        },
        "outputId": "06e2c94e-dabc-403a-f410-3358e44f1229"
      },
      "outputs": [
        {
          "output_type": "stream",
          "name": "stdout",
          "text": [
            "Looking in indexes: https://pypi.org/simple, https://us-python.pkg.dev/colab-wheels/public/simple/\n",
            "Requirement already satisfied: keras-visualizer in /usr/local/lib/python3.7/dist-packages (2.4)\n"
          ]
        }
      ],
      "source": [
        "from __future__ import absolute_import, division, print_function, unicode_literals\n",
        "!pip3 install keras-visualizer\n",
        "\n",
        "import tensorflow as tef\n",
        "import tensorflow_datasets as tnsfds\n",
        "\n",
        "import math\n",
        "import numpy as np\n",
        "import matplotlib.pyplot as mplt\n",
        "import logging\n",
        "logger = tef.get_logger()\n",
        "\n",
        "import keras\n",
        "from keras.models import Sequential\n",
        "from keras.layers import Dense, Dropout, Conv2D, MaxPooling2D, Flatten, Activation\n",
        "from keras_visualizer import visualizer \n",
        "from keras.utils.vis_utils import plot_model\n",
        "from keras import models, layers  \n",
        "from IPython.display import display, Image\n",
        "\n",
        "logger.setLevel(logging.ERROR)"
      ]
    },
    {
      "cell_type": "markdown",
      "source": [
        "Tensor Flow tiene incluídos los set de datos y metadatos dentro de su librería, asi queda importarlo. La libería que trae todos estos datos es \"mnist\". Además, a cada uno de las respuestas posibles (en este caso los números) les ponemos un texto para identificarlo (fácil, a cada uno le ponemos el nombre de número que le corresponde)"
      ],
      "metadata": {
        "id": "d5cKr1e-ZNcb"
      }
    },
    {
      "cell_type": "code",
      "source": [
        "dataset, metadata = tnsfds.load('mnist', as_supervised=True, with_info=True)\n",
        "train_dataset, test_dataset = dataset['train'], dataset['test']\n",
        "\n",
        "class_names = [\n",
        "    'cero', 'uno', 'dos', 'tres', 'cuatro', 'cinco', 'seis',\n",
        "    'siete', 'ocho', 'nueve'\n",
        "]\n",
        "\n",
        "prueba = metadata.splits['train'].num_examples\n",
        "test = metadata.splits['test'].num_examples\n",
        "print(prueba, test)"
      ],
      "metadata": {
        "id": "yw0bpIl7QQTS",
        "colab": {
          "base_uri": "https://localhost:8080/"
        },
        "outputId": "c77977cd-8c90-4e87-ea2b-e6946e69fb5c"
      },
      "execution_count": null,
      "outputs": [
        {
          "output_type": "stream",
          "name": "stdout",
          "text": [
            "60000 10000\n"
          ]
        }
      ]
    },
    {
      "cell_type": "markdown",
      "source": [
        "Ahora se normalizan los datos, es decir, en vez de que los píxeles de la imagen sean del 0 al 255, sean del 0 al 1. (se divide el número entre 255). Después, le damos esta función a los datasets.\n",
        "\n"
      ],
      "metadata": {
        "id": "G4WCHQWDQXm1"
      }
    },
    {
      "cell_type": "code",
      "source": [
        "def normalize(images, labels):\n",
        "    images = tef.cast(images, tef.float32)\n",
        "    images /= 255\n",
        "    return images, labels\n",
        "\n",
        "train_dataset = train_dataset.map(normalize)\n",
        "test_dataset = test_dataset.map(normalize)"
      ],
      "metadata": {
        "id": "TRyBZ8vXQXEs"
      },
      "execution_count": null,
      "outputs": []
    },
    {
      "cell_type": "markdown",
      "source": [
        "# Le asignamos las neuronas a nuestras distintas capas:\n",
        "Primera capa de la red le asignamos 784 neuronas, ya que queremos que tenga 28x28(cuadrado). \n",
        "Dos capas densas de 64 neuronas cada una. Con relu ya que son ocultas\n",
        "Capa de salida donde hay 10 neuronas para cada posible respuesta. Con softmax ya que es de clasificación.\n",
        "\n",
        "Luego con el modelo 'adam' compilamos y guardamos esa precisión(accuracy) para  mostrarla y mejorarla."
      ],
      "metadata": {
        "id": "BXpJJ6tXQeQz"
      }
    },
    {
      "cell_type": "code",
      "source": [
        "model = tef.keras.Sequential([\n",
        "\ttef.keras.layers.Flatten(input_shape=(28,28,1)),\n",
        "\ttef.keras.layers.Dense(64, activation=tef.nn.relu),\n",
        "\ttef.keras.layers.Dense(64, activation=tef.nn.relu),\n",
        "\ttef.keras.layers.Dense(10, activation=tef.nn.softmax)\n",
        " ])\n",
        "\n",
        "model.compile(\n",
        "\toptimizer='adam',\n",
        "\tloss='sparse_categorical_crossentropy',\n",
        "\tmetrics=['accuracy']\n",
        ")"
      ],
      "metadata": {
        "id": "raMJUPRBQa_x"
      },
      "execution_count": null,
      "outputs": []
    },
    {
      "cell_type": "markdown",
      "source": [
        "# Entrenamiento\n",
        " En esta parte se entrena al modelo, como dijimos antes. \n",
        " Primero definimos la cantidad de aprendizajes o ejemplos por lote (batchsize), en este caso 32. Luego cuantas vueltas completas se harán al dataset durante el entrenamiento."
      ],
      "metadata": {
        "id": "AcyaiXMcQmye"
      }
    },
    {
      "cell_type": "code",
      "source": [
        "BATCHSIZE = 32\n",
        "train_dataset = train_dataset.repeat().shuffle(prueba).batch(BATCHSIZE)\n",
        "test_dataset = test_dataset.batch(BATCHSIZE)\n",
        "\n",
        "model.fit(\n",
        "\ttrain_dataset, epochs=5,\n",
        "\tsteps_per_epoch=math.ceil(prueba/BATCHSIZE) \n",
        ")"
      ],
      "metadata": {
        "id": "k_eY8WjwQnsw",
        "colab": {
          "base_uri": "https://localhost:8080/"
        },
        "outputId": "64cd87e0-a9ed-43fd-bce9-2f1e7642de09"
      },
      "execution_count": null,
      "outputs": [
        {
          "output_type": "stream",
          "name": "stdout",
          "text": [
            "Epoch 1/5\n",
            "1875/1875 [==============================] - 28s 9ms/step - loss: 0.2718 - accuracy: 0.9214\n",
            "Epoch 2/5\n",
            "1875/1875 [==============================] - 8s 4ms/step - loss: 0.1167 - accuracy: 0.9649\n",
            "Epoch 3/5\n",
            "1875/1875 [==============================] - 9s 5ms/step - loss: 0.0864 - accuracy: 0.9739\n",
            "Epoch 4/5\n",
            "1875/1875 [==============================] - 8s 4ms/step - loss: 0.0717 - accuracy: 0.9782\n",
            "Epoch 5/5\n",
            "1875/1875 [==============================] - 8s 4ms/step - loss: 0.0555 - accuracy: 0.9828\n"
          ]
        },
        {
          "output_type": "execute_result",
          "data": {
            "text/plain": [
              "<keras.callbacks.History at 0x7fd0399eb9d0>"
            ]
          },
          "metadata": {},
          "execution_count": 6
        }
      ]
    },
    {
      "cell_type": "markdown",
      "source": [
        "# Evaluación: \n",
        "Luego de entrenar a la red, usamos esos datos para ver que tan preciso es y que tan bien fue ese entrenamiento. Al finalizar, se imprimen esos datos en pantalla."
      ],
      "metadata": {
        "id": "5hF8B-BEQwkv"
      }
    },
    {
      "cell_type": "code",
      "source": [
        "test_loss, test_accuracy = model.evaluate(\n",
        "\ttest_dataset, steps=math.ceil(test/32)\n",
        ")\n",
        "print(\"Test Loss: {}, Precisión: {}\".format(test_loss, test_accuracy))"
      ],
      "metadata": {
        "id": "-O5i1sLTQz51",
        "colab": {
          "base_uri": "https://localhost:8080/",
          "height": 217
        },
        "outputId": "573552e6-25c3-4129-ecf4-a170f644fc9c"
      },
      "execution_count": null,
      "outputs": [
        {
          "output_type": "error",
          "ename": "NameError",
          "evalue": "ignored",
          "traceback": [
            "\u001b[0;31m---------------------------------------------------------------------------\u001b[0m",
            "\u001b[0;31mNameError\u001b[0m                                 Traceback (most recent call last)",
            "\u001b[0;32m<ipython-input-1-04b619872a9b>\u001b[0m in \u001b[0;36m<module>\u001b[0;34m\u001b[0m\n\u001b[0;32m----> 1\u001b[0;31m test_loss, test_accuracy = model.evaluate(\n\u001b[0m\u001b[1;32m      2\u001b[0m         \u001b[0mtest_dataset\u001b[0m\u001b[0;34m,\u001b[0m \u001b[0msteps\u001b[0m\u001b[0;34m=\u001b[0m\u001b[0mmath\u001b[0m\u001b[0;34m.\u001b[0m\u001b[0mceil\u001b[0m\u001b[0;34m(\u001b[0m\u001b[0mtest\u001b[0m\u001b[0;34m/\u001b[0m\u001b[0;36m32\u001b[0m\u001b[0;34m)\u001b[0m\u001b[0;34m\u001b[0m\u001b[0;34m\u001b[0m\u001b[0m\n\u001b[1;32m      3\u001b[0m )\n\u001b[1;32m      4\u001b[0m \u001b[0mprint\u001b[0m\u001b[0;34m(\u001b[0m\u001b[0;34m\"Test Loss: {}, Precisión: {}\"\u001b[0m\u001b[0;34m.\u001b[0m\u001b[0mformat\u001b[0m\u001b[0;34m(\u001b[0m\u001b[0mtest_loss\u001b[0m\u001b[0;34m,\u001b[0m \u001b[0mtest_accuracy\u001b[0m\u001b[0;34m)\u001b[0m\u001b[0;34m)\u001b[0m\u001b[0;34m\u001b[0m\u001b[0;34m\u001b[0m\u001b[0m\n",
            "\u001b[0;31mNameError\u001b[0m: name 'model' is not defined"
          ]
        }
      ]
    },
    {
      "cell_type": "markdown",
      "source": [
        "Ahora pasamos nuestra red a codigo para que se pueda visualizar con gráficos. Estos graficos se demuestran de manera que aparece el número escrito a mano, y el número que nuestra red entrenada predijo. A su lado, vemos si fue acertada o no. \n",
        " "
      ],
      "metadata": {
        "id": "w8Vjdg14Q4m4"
      }
    },
    {
      "cell_type": "code",
      "source": [
        "for test_images, test_labels in test_dataset.take(1):\n",
        "\ttest_images = test_images.numpy()\n",
        "\ttest_labels = test_labels.numpy()\n",
        "\tpredictions = model.predict(test_images)\n",
        " \n",
        "def plot_image(i, predictions_array, true_labels, images):\n",
        "\tpredictions_array, true_label, img = predictions_array[i], true_labels[i], images[i]\n",
        "\tmplt.grid(False)\n",
        "\tmplt.xticks([])\n",
        "\tmplt.yticks([])\n",
        "\n",
        "\tmplt.imshow(img[...,0], cmap=mplt.cm.binary)\n",
        "\n",
        "\tpredicted_label = np.argmax(predictions_array)\n",
        "\tif predicted_label == true_label:\n",
        "\t\tcolor = 'green'\n",
        "\telse:\n",
        "\t\tcolor = 'red'\n",
        "\n",
        "\tmplt.xlabel(\"Numero predecido: {}\".format(class_names[predicted_label]), color=color)\n",
        "\n",
        "def plot_value_array(i, predictions_array, true_label):\n",
        "\tpredictions_array, true_label = predictions_array[i], true_label[i]\n",
        "\tmplt.grid(False)\n",
        "\tmplt.xticks([])\n",
        "\tmplt.yticks([])\n",
        "\tthisplot = mplt.bar(range(10), predictions_array, color=\"#888888\")\n",
        "\tmplt.ylim([0,1])\n",
        "\tpredicted_label = np.argmax(predictions_array)\n",
        "\n",
        "\tthisplot[predicted_label].set_color('red')\n",
        "\tthisplot[true_label].set_color('green')\n",
        "\n",
        "numrows=6\n",
        "numcols=3\n",
        "numimages = numrows*numcols\n",
        "\n",
        "mplt.figure(figsize=(2*2*numcols, 2*numrows))\n",
        "for i in range(numimages):\n",
        "\tmplt.subplot(numrows, 2*numcols, 2*i+1)\n",
        "\tplot_image(i, predictions, test_labels, test_images)\n",
        "\tmplt.subplot(numrows, 2*numcols, 2*i+2)\n",
        "\tplot_value_array(i, predictions, test_labels)\n",
        "\n",
        "mplt.show()"
      ],
      "metadata": {
        "id": "0-Xz5HeARCvz"
      },
      "execution_count": null,
      "outputs": []
    }
  ]
}